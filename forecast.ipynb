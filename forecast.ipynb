{
 "cells": [
  {
   "cell_type": "code",
   "execution_count": 1,
   "metadata": {},
   "outputs": [
    {
     "name": "stdout",
     "output_type": "stream",
     "text": [
      "(2534, 73)\n",
      "Class=0, total=2374, percenrage=93.686\n",
      "Class=1, total=160, percenrage=6.314\n"
     ]
    }
   ],
   "source": [
    "# load and summarize\n",
    "import pandas as pd\n",
    "import matplotlib.pyplot as plt\n",
    "#load dataset\n",
    "data = pd.read_csv('eighthr.data', header=None, index_col=0, parse_dates=True, squeeze=True)\n",
    "print(data.shape)\n",
    "counts = data.groupby(73).size()\n",
    "#summarize class counts\n",
    "for i in range (len(counts)):\n",
    "    percent = counts[i] / data.shape[0]*100\n",
    "    print('Class=%d, total=%d, percenrage=%.3f' %(i, counts[i], percent))"
   ]
  },
  {
   "cell_type": "code",
   "execution_count": 2,
   "metadata": {},
   "outputs": [
    {
     "data": {
      "text/plain": [
       "160"
      ]
     },
     "execution_count": 2,
     "metadata": {},
     "output_type": "execute_result"
    }
   ],
   "source": [
    "counts = data.groupby(73).size()\n",
    "counts[1]\n"
   ]
  },
  {
   "cell_type": "code",
   "execution_count": 3,
   "metadata": {},
   "outputs": [
    {
     "data": {
      "text/html": [
       "<div>\n",
       "<style scoped>\n",
       "    .dataframe tbody tr th:only-of-type {\n",
       "        vertical-align: middle;\n",
       "    }\n",
       "\n",
       "    .dataframe tbody tr th {\n",
       "        vertical-align: top;\n",
       "    }\n",
       "\n",
       "    .dataframe thead th {\n",
       "        text-align: right;\n",
       "    }\n",
       "</style>\n",
       "<table border=\"1\" class=\"dataframe\">\n",
       "  <thead>\n",
       "    <tr style=\"text-align: right;\">\n",
       "      <th></th>\n",
       "      <th>1</th>\n",
       "      <th>2</th>\n",
       "      <th>3</th>\n",
       "      <th>4</th>\n",
       "      <th>5</th>\n",
       "      <th>6</th>\n",
       "      <th>7</th>\n",
       "      <th>8</th>\n",
       "      <th>9</th>\n",
       "      <th>10</th>\n",
       "      <th>...</th>\n",
       "      <th>64</th>\n",
       "      <th>65</th>\n",
       "      <th>66</th>\n",
       "      <th>67</th>\n",
       "      <th>68</th>\n",
       "      <th>69</th>\n",
       "      <th>70</th>\n",
       "      <th>71</th>\n",
       "      <th>72</th>\n",
       "      <th>73</th>\n",
       "    </tr>\n",
       "    <tr>\n",
       "      <th>0</th>\n",
       "      <th></th>\n",
       "      <th></th>\n",
       "      <th></th>\n",
       "      <th></th>\n",
       "      <th></th>\n",
       "      <th></th>\n",
       "      <th></th>\n",
       "      <th></th>\n",
       "      <th></th>\n",
       "      <th></th>\n",
       "      <th></th>\n",
       "      <th></th>\n",
       "      <th></th>\n",
       "      <th></th>\n",
       "      <th></th>\n",
       "      <th></th>\n",
       "      <th></th>\n",
       "      <th></th>\n",
       "      <th></th>\n",
       "      <th></th>\n",
       "      <th></th>\n",
       "    </tr>\n",
       "  </thead>\n",
       "  <tbody>\n",
       "    <tr>\n",
       "      <th>1998-01-01</th>\n",
       "      <td>0.8</td>\n",
       "      <td>1.8</td>\n",
       "      <td>2.4</td>\n",
       "      <td>2.1</td>\n",
       "      <td>2</td>\n",
       "      <td>2.1</td>\n",
       "      <td>1.5</td>\n",
       "      <td>1.7</td>\n",
       "      <td>1.9</td>\n",
       "      <td>2.3</td>\n",
       "      <td>...</td>\n",
       "      <td>0.15</td>\n",
       "      <td>10.67</td>\n",
       "      <td>-1.56</td>\n",
       "      <td>5795</td>\n",
       "      <td>-12.1</td>\n",
       "      <td>17.9</td>\n",
       "      <td>10330</td>\n",
       "      <td>-55</td>\n",
       "      <td>0</td>\n",
       "      <td>0.0</td>\n",
       "    </tr>\n",
       "    <tr>\n",
       "      <th>1998-01-02</th>\n",
       "      <td>2.8</td>\n",
       "      <td>3.2</td>\n",
       "      <td>3.3</td>\n",
       "      <td>2.7</td>\n",
       "      <td>3.3</td>\n",
       "      <td>3.2</td>\n",
       "      <td>2.9</td>\n",
       "      <td>2.8</td>\n",
       "      <td>3.1</td>\n",
       "      <td>3.4</td>\n",
       "      <td>...</td>\n",
       "      <td>0.48</td>\n",
       "      <td>8.39</td>\n",
       "      <td>3.84</td>\n",
       "      <td>5805</td>\n",
       "      <td>14.05</td>\n",
       "      <td>29</td>\n",
       "      <td>10275</td>\n",
       "      <td>-55</td>\n",
       "      <td>0</td>\n",
       "      <td>0.0</td>\n",
       "    </tr>\n",
       "    <tr>\n",
       "      <th>1998-01-03</th>\n",
       "      <td>2.9</td>\n",
       "      <td>2.8</td>\n",
       "      <td>2.6</td>\n",
       "      <td>2.1</td>\n",
       "      <td>2.2</td>\n",
       "      <td>2.5</td>\n",
       "      <td>2.5</td>\n",
       "      <td>2.7</td>\n",
       "      <td>2.2</td>\n",
       "      <td>2.5</td>\n",
       "      <td>...</td>\n",
       "      <td>0.6</td>\n",
       "      <td>6.94</td>\n",
       "      <td>9.8</td>\n",
       "      <td>5790</td>\n",
       "      <td>17.9</td>\n",
       "      <td>41.3</td>\n",
       "      <td>10235</td>\n",
       "      <td>-40</td>\n",
       "      <td>0</td>\n",
       "      <td>0.0</td>\n",
       "    </tr>\n",
       "    <tr>\n",
       "      <th>1998-01-04</th>\n",
       "      <td>4.7</td>\n",
       "      <td>3.8</td>\n",
       "      <td>3.7</td>\n",
       "      <td>3.8</td>\n",
       "      <td>2.9</td>\n",
       "      <td>3.1</td>\n",
       "      <td>2.8</td>\n",
       "      <td>2.5</td>\n",
       "      <td>2.4</td>\n",
       "      <td>3.1</td>\n",
       "      <td>...</td>\n",
       "      <td>0.49</td>\n",
       "      <td>8.73</td>\n",
       "      <td>10.54</td>\n",
       "      <td>5775</td>\n",
       "      <td>31.15</td>\n",
       "      <td>51.7</td>\n",
       "      <td>10195</td>\n",
       "      <td>-40</td>\n",
       "      <td>2.08</td>\n",
       "      <td>0.0</td>\n",
       "    </tr>\n",
       "    <tr>\n",
       "      <th>1998-01-05</th>\n",
       "      <td>2.6</td>\n",
       "      <td>2.1</td>\n",
       "      <td>1.6</td>\n",
       "      <td>1.4</td>\n",
       "      <td>0.9</td>\n",
       "      <td>1.5</td>\n",
       "      <td>1.2</td>\n",
       "      <td>1.4</td>\n",
       "      <td>1.3</td>\n",
       "      <td>1.4</td>\n",
       "      <td>...</td>\n",
       "      <td>?</td>\n",
       "      <td>?</td>\n",
       "      <td>?</td>\n",
       "      <td>?</td>\n",
       "      <td>?</td>\n",
       "      <td>?</td>\n",
       "      <td>?</td>\n",
       "      <td>?</td>\n",
       "      <td>0.58</td>\n",
       "      <td>0.0</td>\n",
       "    </tr>\n",
       "  </tbody>\n",
       "</table>\n",
       "<p>5 rows × 73 columns</p>\n",
       "</div>"
      ],
      "text/plain": [
       "             1    2    3    4    5    6    7    8    9    10 ...     64  \\\n",
       "0                                                            ...          \n",
       "1998-01-01  0.8  1.8  2.4  2.1    2  2.1  1.5  1.7  1.9  2.3 ...   0.15   \n",
       "1998-01-02  2.8  3.2  3.3  2.7  3.3  3.2  2.9  2.8  3.1  3.4 ...   0.48   \n",
       "1998-01-03  2.9  2.8  2.6  2.1  2.2  2.5  2.5  2.7  2.2  2.5 ...    0.6   \n",
       "1998-01-04  4.7  3.8  3.7  3.8  2.9  3.1  2.8  2.5  2.4  3.1 ...   0.49   \n",
       "1998-01-05  2.6  2.1  1.6  1.4  0.9  1.5  1.2  1.4  1.3  1.4 ...      ?   \n",
       "\n",
       "               65     66    67     68    69     70   71    72   73  \n",
       "0                                                                   \n",
       "1998-01-01  10.67  -1.56  5795  -12.1  17.9  10330  -55     0  0.0  \n",
       "1998-01-02   8.39   3.84  5805  14.05    29  10275  -55     0  0.0  \n",
       "1998-01-03   6.94    9.8  5790   17.9  41.3  10235  -40     0  0.0  \n",
       "1998-01-04   8.73  10.54  5775  31.15  51.7  10195  -40  2.08  0.0  \n",
       "1998-01-05      ?      ?     ?      ?     ?      ?    ?  0.58  0.0  \n",
       "\n",
       "[5 rows x 73 columns]"
      ]
     },
     "execution_count": 3,
     "metadata": {},
     "output_type": "execute_result"
    }
   ],
   "source": [
    "data.head()"
   ]
  },
  {
   "cell_type": "code",
   "execution_count": 5,
   "metadata": {},
   "outputs": [
    {
     "data": {
      "image/png": "[encoded data removed]",
      "text/plain": [
       "<Figure size 432x288 with 1 Axes>"
      ]
     },
     "metadata": {},
     "output_type": "display_data"
    }
   ],
   "source": [
    "plt.plot(data.index, data.values[:,-1])\n",
    "plt.show()"
   ]
  },
  {
   "cell_type": "code",
   "execution_count": 6,
   "metadata": {},
   "outputs": [
    {
     "name": "stdout",
     "output_type": "stream",
     "text": [
      "(1803, 73) (730, 73)\n"
     ]
    }
   ],
   "source": [
    "# DATA PREPARATION\n",
    "from pandas import read_csv\n",
    "import matplotlib.pyplot as plt\n",
    "from numpy import array\n",
    "from numpy import hstack\n",
    "from numpy import savetxt\n",
    "\n",
    "values = data.values\n",
    "# frame as supervised learning\n",
    "values[values=='?']=0.0\n",
    "\n",
    "supervised = list()\n",
    "for i in range(len(values)-1):\n",
    "    X, y = values[i, :-1], values[i+1, -1]\n",
    "    row = hstack((X,y))\n",
    "    supervised.append(row)\n",
    "supervised = array(supervised)\n",
    "#split into train-test\n",
    "split = 365*2\n",
    "train, test = supervised[:-split,:], supervised[-split:,:]\n",
    "train, test = train.astype('float32'), test.astype('float32')\n",
    "print(train.shape, test.shape)\n",
    "# save prepared datasets\n",
    "savetxt('train.csv', train, delimiter=',')\n",
    "savetxt('test.csv', test, delimiter=',')"
   ]
  },
  {
   "cell_type": "code",
   "execution_count": 7,
   "metadata": {},
   "outputs": [
    {
     "name": "stdout",
     "output_type": "stream",
     "text": [
      "0.07265668330560178\n",
      "Brier Score: 0.039232\n",
      "Brier Skill Score: -0.000000\n"
     ]
    }
   ],
   "source": [
    "# NAIVE PREDICTION METHOD\n",
    "from sklearn.metrics import brier_score_loss\n",
    "from numpy import loadtxt\n",
    "\n",
    "#load datsets\n",
    "train = loadtxt('train.csv', delimiter=',')\n",
    "test = loadtxt('test.csv', delimiter=',')\n",
    "#estimate naive probabilistic forecast\n",
    "naive = sum(train[:,-1]) / train.shape[0]\n",
    "print(naive)\n",
    "#forecast the test dataset\n",
    "yhat = [naive for _ in range(len(test))]\n",
    "# evaluate forecast\n",
    "testy = test[:,-1]\n",
    "bs = brier_score_loss(testy, yhat)\n",
    "print('Brier Score: %.6f' % bs)\n",
    "# calculate brier skill score\n",
    "bs_ref = bs\n",
    "bss = (bs - bs_ref)/(0 - bs_ref)\n",
    "print('Brier Skill Score: %.6f' % bss)"
   ]
  },
  {
   "cell_type": "code",
   "execution_count": null,
   "metadata": {},
   "outputs": [],
   "source": [
    "scores, names = list(), list()\n",
    "n_trees = 100\n",
    "#bagging\n",
    "model = BaggingClassifier(n_estimat)"
   ]
  },
  {
   "cell_type": "code",
   "execution_count": 10,
   "metadata": {},
   "outputs": [
    {
     "name": "stdout",
     "output_type": "stream",
     "text": [
      "><class 'sklearn.ensemble.bagging.BaggingClassifier'>, bss=0.065814\n",
      "><class 'sklearn.ensemble.forest.ExtraTreesClassifier'>, bss=0.106689\n",
      "><class 'sklearn.ensemble.gradient_boosting.GradientBoostingClassifier'>, bss=0.118517\n",
      "><class 'sklearn.ensemble.forest.RandomForestClassifier'>, bss=0.105533\n"
     ]
    },
    {
     "data": {
      "image/png": "[encoded data removed]",
      "text/plain": [
       "<Figure size 432x288 with 1 Axes>"
      ]
     },
     "metadata": {},
     "output_type": "display_data"
    }
   ],
   "source": [
    "# evaluate ensemble tree methods\n",
    "from numpy import loadtxt\n",
    "from numpy import mean\n",
    "import matplotlib.pyplot as plt\n",
    "from sklearn.base import clone\n",
    "from sklearn.metrics import brier_score_loss\n",
    "from sklearn.ensemble import BaggingClassifier\n",
    "from sklearn.ensemble import ExtraTreesClassifier\n",
    "from sklearn.ensemble import RandomForestClassifier\n",
    "from sklearn.ensemble import GradientBoostingClassifier\n",
    "\n",
    "# evaluate the model\n",
    "def evaluate_once(bs_ref, template, trainX, trainy, testX, testy):\n",
    "    #fit model\n",
    "    model = clone(template)\n",
    "    model.fit(trainX, trainy)\n",
    "    # predict probabilities for 0 and 1\n",
    "    probs = model.predict_proba(testX)\n",
    "    #keep the probabilities for class=1 only\n",
    "    yhat = probs[:,1]\n",
    "    #calculate brier score\n",
    "    bs = brier_score_loss(testy, yhat)\n",
    "    #calculate brier skill score\n",
    "    bss = (bs - bs_ref)/(0 - bs_ref)\n",
    "    return bss\n",
    "\n",
    "# evaluate an sklearn model n times\n",
    "def evaluate(bs_ref, model, trainX, trainy, testX, testy, n=10):\n",
    "    scores = [evaluate_once(bs_ref, model, trainX, trainy, testX, testy) for _ in range(n)]\n",
    "    print('>%s, bss=%.6f' % (type(model), mean(scores)))\n",
    "    return scores\n",
    "\n",
    "#load datasets\n",
    "train = loadtxt('train.csv', delimiter=',')\n",
    "test = loadtxt('test.csv', delimiter=',')\n",
    "# split into inputs/outputs\n",
    "trainX, trainy, testX, testy = train[:,:-1], train[:,-1], test[:,:-1], test[:,-1]\n",
    "# estimate naive probabilistic forecast\n",
    "naive = sum(train[:,-1])/ train.shape[0]\n",
    "# forecast the test dataset\n",
    "yhat = [naive for _ in range(len(test))]\n",
    "# calculate brier score loss\n",
    "bs_ref = brier_score_loss(testy, yhat)\n",
    "# evaluate a suite of ensemble tree methods\n",
    "scores, names = list(), list()\n",
    "n_trees=100\n",
    "\n",
    "#bagging\n",
    "model = BaggingClassifier(n_estimators=n_trees)\n",
    "avg_bss = evaluate(bs_ref, model, trainX, trainy, testX, testy)\n",
    "scores.append(avg_bss)\n",
    "names.append('bagging')\n",
    "# extra\n",
    "model = ExtraTreesClassifier(n_estimators=n_trees)\n",
    "avg_bss = evaluate(bs_ref, model, trainX, trainy, testX, testy)\n",
    "scores.append(avg_bss)\n",
    "names.append('extra')\n",
    "#gbm\n",
    "model = GradientBoostingClassifier(n_estimators=n_trees)\n",
    "avg_bss = evaluate(bs_ref, model, trainX, trainy, testX, testy)\n",
    "scores.append(avg_bss)\n",
    "names.append('gbm')\n",
    "#rf\n",
    "model = RandomForestClassifier(n_estimators=n_trees)\n",
    "avg_bss = evaluate(bs_ref, model, trainX, trainy, testX, testy)\n",
    "scores.append(avg_bss)\n",
    "names.append('rf')\n",
    "\n",
    "#plot results\n",
    "plt.boxplot(scores, labels=names)\n",
    "plt.show()"
   ]
  },
  {
   "cell_type": "code",
   "execution_count": 12,
   "metadata": {},
   "outputs": [
    {
     "name": "stdout",
     "output_type": "stream",
     "text": [
      "><class 'sklearn.ensemble.gradient_boosting.GradientBoostingClassifier'>, bss=0.124120\n",
      "><class 'sklearn.ensemble.gradient_boosting.GradientBoostingClassifier'>, bss=0.145364\n",
      "><class 'sklearn.ensemble.gradient_boosting.GradientBoostingClassifier'>, bss=0.080109\n",
      "><class 'sklearn.ensemble.gradient_boosting.GradientBoostingClassifier'>, bss=0.196157\n"
     ]
    },
    {
     "data": {
      "image/png": "[encoded data removed]",
      "text/plain": [
       "<Figure size 432x288 with 1 Axes>"
      ]
     },
     "metadata": {},
     "output_type": "display_data"
    }
   ],
   "source": [
    "# PARAMETER TUNING GRADIENT BOOSTING\n",
    "#base\n",
    "scores, names = list(), list()\n",
    "model = GradientBoostingClassifier(learning_rate=0.1,n_estimators=100,subsample=1.0,max_depth=3)\n",
    "avg_bss = evaluate(bs_ref, model, trainX, trainy, testX, testy)\n",
    "scores.append(avg_bss)\n",
    "names.append('base')\n",
    "# learning rate\n",
    "model = GradientBoostingClassifier(learning_rate=0.01,n_estimators=500,subsample=1.0,max_depth=3)\n",
    "avg_bss = evaluate(bs_ref, model, trainX, trainy, testX, testy)\n",
    "scores.append(avg_bss)\n",
    "names.append('lr')\n",
    "#depth\n",
    "model = GradientBoostingClassifier(learning_rate=0.1,n_estimators=100,subsample=0.7,max_depth=7)\n",
    "avg_bss = evaluate(bs_ref, model, trainX, trainy, testX, testy)\n",
    "scores.append(avg_bss)\n",
    "names.append('depth')\n",
    "#all\n",
    "model = GradientBoostingClassifier(learning_rate=0.01,n_estimators=500,subsample=0.7,max_depth=7)\n",
    "avg_bss = evaluate(bs_ref, model, trainX, trainy, testX, testy)\n",
    "scores.append(avg_bss)\n",
    "names.append('all')\n",
    "\n",
    "#plot results\n",
    "plt.boxplot(scores, labels=names)\n",
    "plt.show()"
   ]
  },
  {
   "cell_type": "code",
   "execution_count": null,
   "metadata": {},
   "outputs": [],
   "source": []
  }
 ],
 "metadata": {
  "kernelspec": {
   "display_name": "Python 3",
   "language": "python",
   "name": "python3"
  },
  "language_info": {
   "codemirror_mode": {
    "name": "ipython",
    "version": 3
   },
   "file_extension": ".py",
   "mimetype": "text/x-python",
   "name": "python",
   "nbconvert_exporter": "python",
   "pygments_lexer": "ipython3",
   "version": "3.6.5"
  }
 },
 "nbformat": 4,
 "nbformat_minor": 2
}
